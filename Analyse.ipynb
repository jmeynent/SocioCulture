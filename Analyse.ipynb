{
 "cells": [
  {
   "cell_type": "markdown",
   "id": "5158b892-8005-468e-8732-f15397cdfbe9",
   "metadata": {},
   "source": [
    "# Préparation de la base de données #"
   ]
  },
  {
   "cell_type": "markdown",
   "id": "cb4eddd9-ed5d-44e7-a557-a4567d63caf6",
   "metadata": {},
   "source": [
    "On importe les packages qui seront nécessaires pour notre analyse de données. "
   ]
  },
  {
   "cell_type": "code",
   "execution_count": 18,
   "id": "951288a3-3e1a-408e-a330-b80d3e9b21eb",
   "metadata": {},
   "outputs": [
    {
     "name": "stdout",
     "output_type": "stream",
     "text": [
      "Requirement already satisfied: pathlib2 in /opt/mamba/lib/python3.10/site-packages (2.3.7.post1)\n",
      "Requirement already satisfied: six in /opt/mamba/lib/python3.10/site-packages (from pathlib2) (1.16.0)\n",
      "Requirement already satisfied: python-Levenshtein in /opt/mamba/lib/python3.10/site-packages (0.23.0)\n",
      "Requirement already satisfied: Levenshtein==0.23.0 in /opt/mamba/lib/python3.10/site-packages (from python-Levenshtein) (0.23.0)\n",
      "Requirement already satisfied: rapidfuzz<4.0.0,>=3.1.0 in /opt/mamba/lib/python3.10/site-packages (from Levenshtein==0.23.0->python-Levenshtein) (3.5.2)\n",
      "Requirement already satisfied: openpyxl in /opt/mamba/lib/python3.10/site-packages (3.1.2)\n",
      "Requirement already satisfied: et-xmlfile in /opt/mamba/lib/python3.10/site-packages (from openpyxl) (1.1.0)\n",
      "Requirement already satisfied: xlrd in /opt/mamba/lib/python3.10/site-packages (2.0.1)\n",
      "Requirement already satisfied: pandas in /opt/mamba/lib/python3.10/site-packages (2.1.3)\n",
      "Requirement already satisfied: fiona in /opt/mamba/lib/python3.10/site-packages (1.9.3)\n",
      "Requirement already satisfied: shapely in /opt/mamba/lib/python3.10/site-packages (2.0.2)\n",
      "Requirement already satisfied: pyproj in /opt/mamba/lib/python3.10/site-packages (3.6.1)\n",
      "Requirement already satisfied: rtree in /opt/mamba/lib/python3.10/site-packages (1.1.0)\n",
      "Requirement already satisfied: numpy<2,>=1.22.4 in /opt/mamba/lib/python3.10/site-packages (from pandas) (1.26.2)\n",
      "Requirement already satisfied: python-dateutil>=2.8.2 in /opt/mamba/lib/python3.10/site-packages (from pandas) (2.8.2)\n",
      "Requirement already satisfied: pytz>=2020.1 in /opt/mamba/lib/python3.10/site-packages (from pandas) (2023.3.post1)\n",
      "Requirement already satisfied: tzdata>=2022.1 in /opt/mamba/lib/python3.10/site-packages (from pandas) (2023.3)\n",
      "Requirement already satisfied: attrs>=19.2.0 in /opt/mamba/lib/python3.10/site-packages (from fiona) (23.1.0)\n",
      "Requirement already satisfied: certifi in /opt/mamba/lib/python3.10/site-packages (from fiona) (2023.11.17)\n",
      "Requirement already satisfied: click~=8.0 in /opt/mamba/lib/python3.10/site-packages (from fiona) (8.1.7)\n",
      "Requirement already satisfied: click-plugins>=1.0 in /opt/mamba/lib/python3.10/site-packages (from fiona) (1.1.1)\n",
      "Requirement already satisfied: cligj>=0.5 in /opt/mamba/lib/python3.10/site-packages (from fiona) (0.7.2)\n",
      "Requirement already satisfied: munch>=2.3.2 in /opt/mamba/lib/python3.10/site-packages (from fiona) (4.0.0)\n",
      "Requirement already satisfied: six>=1.5 in /opt/mamba/lib/python3.10/site-packages (from python-dateutil>=2.8.2->pandas) (1.16.0)\n",
      "Requirement already satisfied: pyreadr in /opt/mamba/lib/python3.10/site-packages (0.5.0)\n",
      "Requirement already satisfied: pandas>=1.2.0 in /opt/mamba/lib/python3.10/site-packages (from pyreadr) (2.1.3)\n",
      "Requirement already satisfied: numpy<2,>=1.22.4 in /opt/mamba/lib/python3.10/site-packages (from pandas>=1.2.0->pyreadr) (1.26.2)\n",
      "Requirement already satisfied: python-dateutil>=2.8.2 in /opt/mamba/lib/python3.10/site-packages (from pandas>=1.2.0->pyreadr) (2.8.2)\n",
      "Requirement already satisfied: pytz>=2020.1 in /opt/mamba/lib/python3.10/site-packages (from pandas>=1.2.0->pyreadr) (2023.3.post1)\n",
      "Requirement already satisfied: tzdata>=2022.1 in /opt/mamba/lib/python3.10/site-packages (from pandas>=1.2.0->pyreadr) (2023.3)\n",
      "Requirement already satisfied: six>=1.5 in /opt/mamba/lib/python3.10/site-packages (from python-dateutil>=2.8.2->pandas>=1.2.0->pyreadr) (1.16.0)\n"
     ]
    }
   ],
   "source": [
    "!pip install pathlib2\n",
    "!pip install python-Levenshtein\n",
    "!pip install openpyxl\n",
    "!pip install --upgrade xlrd\n",
    "!pip install pandas fiona shapely pyproj rtree\n",
    "!pip install pyreadr\n",
    "\n",
    "import requests\n",
    "import numpy as np\n",
    "import pandas as pd\n",
    "from scipy import stats\n",
    "import matplotlib.pyplot as plt\n",
    "import seaborn as sns\n",
    "import statsmodels.api as sm\n",
    "import pyreadr\n",
    "from sklearn.model_selection import train_test_split\n",
    "from sklearn.linear_model import LinearRegression\n",
    "from sklearn.metrics import mean_squared_error, r2_score\n",
    "from sklearn.impute import SimpleImputer"
   ]
  },
  {
   "cell_type": "markdown",
   "id": "e6f4e805-cbbc-47a8-8042-980ecc93d47f",
   "metadata": {},
   "source": [
    "## Préparation Préliminaire sur R ##"
   ]
  },
  {
   "cell_type": "code",
   "execution_count": null,
   "id": "996c11ff-e349-4c2f-8a3b-e93166d9263e",
   "metadata": {},
   "outputs": [],
   "source": [
    "#Code sur R pour convertir les parties de la base de données qui nous intéressait en fichier csv\n",
    "\"\"\"\n",
    "#Spécification du chemin\n",
    "\n",
    "chemin_csv <- \"W:/Documents/3A/SocioQ/movie.csv\"\n",
    "\n",
    "# Exporter la base de données en format CSV\n",
    "write.csv(movies, file = chemin_csv, row.names = FALSE)\n",
    "\"\"\""
   ]
  },
  {
   "cell_type": "markdown",
   "id": "2bc596a4-74e6-44d2-bf71-4d097dabc56b",
   "metadata": {},
   "source": [
    "## Importation sur Python et création de la base de données d'intérêt ##"
   ]
  },
  {
   "cell_type": "markdown",
   "id": "d0b9a992-b8e9-496f-9fd8-a328f5f88a89",
   "metadata": {},
   "source": [
    "On importe la base de donnée qui nous intéresse. Il s'agit de celle convertie précédemment."
   ]
  },
  {
   "cell_type": "code",
   "execution_count": 7,
   "id": "a96be577-7e12-4aeb-8003-fe5411de030d",
   "metadata": {},
   "outputs": [
    {
     "name": "stderr",
     "output_type": "stream",
     "text": [
      "/tmp/ipykernel_241/1916420045.py:3: DtypeWarning: Columns (24,26,27,28) have mixed types. Specify dtype option on import or set low_memory=False.\n",
      "  movie = pd.read_csv('movie.csv', encoding=encodage, sep=',')\n"
     ]
    }
   ],
   "source": [
    "encodage = 'latin-1'\n",
    "try:\n",
    "    movie = pd.read_csv('movie.csv', encoding=encodage, sep=',')\n",
    "except pd.errors.ParserError as e:\n",
    "    print(f\"Error reading CSV file: {e}\")"
   ]
  },
  {
   "cell_type": "markdown",
   "id": "7b570afc-edc0-47b0-823f-367f87beb110",
   "metadata": {},
   "source": [
    "On va supprimer les colonnes pas intéressantes dans le cadre de notre analyse pour faciliter l'implémentation. "
   ]
  },
  {
   "cell_type": "code",
   "execution_count": 9,
   "id": "05efb868-94cc-4c95-b699-ec7d871d6152",
   "metadata": {},
   "outputs": [
    {
     "data": {
      "text/html": [
       "<div>\n",
       "<style scoped>\n",
       "    .dataframe tbody tr th:only-of-type {\n",
       "        vertical-align: middle;\n",
       "    }\n",
       "\n",
       "    .dataframe tbody tr th {\n",
       "        vertical-align: top;\n",
       "    }\n",
       "\n",
       "    .dataframe thead th {\n",
       "        text-align: right;\n",
       "    }\n",
       "</style>\n",
       "<table border=\"1\" class=\"dataframe\">\n",
       "  <thead>\n",
       "    <tr style=\"text-align: right;\">\n",
       "      <th></th>\n",
       "      <th>url</th>\n",
       "      <th>id</th>\n",
       "      <th>note_Presse</th>\n",
       "      <th>note_Spectateurs</th>\n",
       "      <th>Distributeur</th>\n",
       "      <th>Budget</th>\n",
       "      <th>Langues</th>\n",
       "      <th>Récompense</th>\n",
       "    </tr>\n",
       "  </thead>\n",
       "  <tbody>\n",
       "    <tr>\n",
       "      <th>0</th>\n",
       "      <td>https://www.allocine.fr/film/fichefilm_gen_cfi...</td>\n",
       "      <td>304685</td>\n",
       "      <td>4,0</td>\n",
       "      <td>3,9</td>\n",
       "      <td>Gaumont Distribution</td>\n",
       "      <td>-</td>\n",
       "      <td>Français</td>\n",
       "      <td>NaN</td>\n",
       "    </tr>\n",
       "    <tr>\n",
       "      <th>1</th>\n",
       "      <td>https://www.allocine.fr/film/fichefilm_gen_cfi...</td>\n",
       "      <td>255726</td>\n",
       "      <td>4,9</td>\n",
       "      <td>4,3</td>\n",
       "      <td>Universal Pictures International France</td>\n",
       "      <td>-</td>\n",
       "      <td>Anglais</td>\n",
       "      <td>NaN</td>\n",
       "    </tr>\n",
       "    <tr>\n",
       "      <th>2</th>\n",
       "      <td>https://www.allocine.fr/film/fichefilm_gen_cfi...</td>\n",
       "      <td>287538</td>\n",
       "      <td>3,5</td>\n",
       "      <td>3,9</td>\n",
       "      <td>SND</td>\n",
       "      <td>-</td>\n",
       "      <td>Français</td>\n",
       "      <td>NaN</td>\n",
       "    </tr>\n",
       "    <tr>\n",
       "      <th>3</th>\n",
       "      <td>https://www.allocine.fr/film/fichefilm_gen_cfi...</td>\n",
       "      <td>277129</td>\n",
       "      <td>2,7</td>\n",
       "      <td>3,7</td>\n",
       "      <td>Warner Bros. France</td>\n",
       "      <td>-</td>\n",
       "      <td>Anglais</td>\n",
       "      <td>NaN</td>\n",
       "    </tr>\n",
       "    <tr>\n",
       "      <th>4</th>\n",
       "      <td>https://www.allocine.fr/film/fichefilm_gen_cfi...</td>\n",
       "      <td>289056</td>\n",
       "      <td>3,2</td>\n",
       "      <td>4,1</td>\n",
       "      <td>ARP Sélection</td>\n",
       "      <td>-</td>\n",
       "      <td>Anglais</td>\n",
       "      <td>NaN</td>\n",
       "    </tr>\n",
       "    <tr>\n",
       "      <th>...</th>\n",
       "      <td>...</td>\n",
       "      <td>...</td>\n",
       "      <td>...</td>\n",
       "      <td>...</td>\n",
       "      <td>...</td>\n",
       "      <td>...</td>\n",
       "      <td>...</td>\n",
       "      <td>...</td>\n",
       "    </tr>\n",
       "    <tr>\n",
       "      <th>102905</th>\n",
       "      <td>https://www.allocine.fr/film/fichefilm_gen_cfi...</td>\n",
       "      <td>261493</td>\n",
       "      <td>NaN</td>\n",
       "      <td>NaN</td>\n",
       "      <td>-</td>\n",
       "      <td>-</td>\n",
       "      <td>Anglais</td>\n",
       "      <td>NaN</td>\n",
       "    </tr>\n",
       "    <tr>\n",
       "      <th>102906</th>\n",
       "      <td>https://www.allocine.fr/film/fichefilm_gen_cfi...</td>\n",
       "      <td>261515</td>\n",
       "      <td>NaN</td>\n",
       "      <td>NaN</td>\n",
       "      <td>-</td>\n",
       "      <td>-</td>\n",
       "      <td>Japonais</td>\n",
       "      <td>NaN</td>\n",
       "    </tr>\n",
       "    <tr>\n",
       "      <th>102907</th>\n",
       "      <td>https://www.allocine.fr/film/fichefilm_gen_cfi...</td>\n",
       "      <td>313983</td>\n",
       "      <td>NaN</td>\n",
       "      <td>NaN</td>\n",
       "      <td>-</td>\n",
       "      <td>-</td>\n",
       "      <td>Anglais</td>\n",
       "      <td>NaN</td>\n",
       "    </tr>\n",
       "    <tr>\n",
       "      <th>102908</th>\n",
       "      <td>https://www.allocine.fr/film/fichefilm_gen_cfi...</td>\n",
       "      <td>314869</td>\n",
       "      <td>NaN</td>\n",
       "      <td>NaN</td>\n",
       "      <td>-</td>\n",
       "      <td>-</td>\n",
       "      <td>Anglais</td>\n",
       "      <td>NaN</td>\n",
       "    </tr>\n",
       "    <tr>\n",
       "      <th>102909</th>\n",
       "      <td>https://www.allocine.fr/film/fichefilm_gen_cfi...</td>\n",
       "      <td>311181</td>\n",
       "      <td>NaN</td>\n",
       "      <td>NaN</td>\n",
       "      <td>-</td>\n",
       "      <td>-</td>\n",
       "      <td>Coréen</td>\n",
       "      <td>NaN</td>\n",
       "    </tr>\n",
       "  </tbody>\n",
       "</table>\n",
       "<p>102910 rows × 8 columns</p>\n",
       "</div>"
      ],
      "text/plain": [
       "                                                      url      id note_Presse  \\\n",
       "0       https://www.allocine.fr/film/fichefilm_gen_cfi...  304685         4,0   \n",
       "1       https://www.allocine.fr/film/fichefilm_gen_cfi...  255726         4,9   \n",
       "2       https://www.allocine.fr/film/fichefilm_gen_cfi...  287538         3,5   \n",
       "3       https://www.allocine.fr/film/fichefilm_gen_cfi...  277129         2,7   \n",
       "4       https://www.allocine.fr/film/fichefilm_gen_cfi...  289056         3,2   \n",
       "...                                                   ...     ...         ...   \n",
       "102905  https://www.allocine.fr/film/fichefilm_gen_cfi...  261493         NaN   \n",
       "102906  https://www.allocine.fr/film/fichefilm_gen_cfi...  261515         NaN   \n",
       "102907  https://www.allocine.fr/film/fichefilm_gen_cfi...  313983         NaN   \n",
       "102908  https://www.allocine.fr/film/fichefilm_gen_cfi...  314869         NaN   \n",
       "102909  https://www.allocine.fr/film/fichefilm_gen_cfi...  311181         NaN   \n",
       "\n",
       "       note_Spectateurs                             Distributeur Budget  \\\n",
       "0                   3,9                     Gaumont Distribution      -   \n",
       "1                   4,3  Universal Pictures International France      -   \n",
       "2                   3,9                                      SND      -   \n",
       "3                   3,7                      Warner Bros. France      -   \n",
       "4                   4,1                            ARP Sélection      -   \n",
       "...                 ...                                      ...    ...   \n",
       "102905              NaN                                        -      -   \n",
       "102906              NaN                                        -      -   \n",
       "102907              NaN                                        -      -   \n",
       "102908              NaN                                        -      -   \n",
       "102909              NaN                                        -      -   \n",
       "\n",
       "         Langues Récompense  \n",
       "0       Français        NaN  \n",
       "1        Anglais        NaN  \n",
       "2       Français        NaN  \n",
       "3        Anglais        NaN  \n",
       "4        Anglais        NaN  \n",
       "...          ...        ...  \n",
       "102905   Anglais        NaN  \n",
       "102906  Japonais        NaN  \n",
       "102907   Anglais        NaN  \n",
       "102908   Anglais        NaN  \n",
       "102909    Coréen        NaN  \n",
       "\n",
       "[102910 rows x 8 columns]"
      ]
     },
     "execution_count": 9,
     "metadata": {},
     "output_type": "execute_result"
    }
   ],
   "source": [
    "df = movie[['url', 'id', 'note_Presse', 'note_Spectateurs','Distributeur','Budget','Langues', 'Récompense']]\n",
    "df"
   ]
  },
  {
   "cell_type": "code",
   "execution_count": 10,
   "id": "bf18f475-7b9c-489d-9475-dd175468c43b",
   "metadata": {},
   "outputs": [
    {
     "name": "stderr",
     "output_type": "stream",
     "text": [
      "/tmp/ipykernel_241/338836235.py:2: SettingWithCopyWarning: \n",
      "A value is trying to be set on a copy of a slice from a DataFrame.\n",
      "Try using .loc[row_indexer,col_indexer] = value instead\n",
      "\n",
      "See the caveats in the documentation: https://pandas.pydata.org/pandas-docs/stable/user_guide/indexing.html#returning-a-view-versus-a-copy\n",
      "  df['note_Presse'] = pd.to_numeric(df['note_Presse'].replace('--', pd.NA).str.replace(',', '.'), errors='coerce')\n",
      "/tmp/ipykernel_241/338836235.py:3: SettingWithCopyWarning: \n",
      "A value is trying to be set on a copy of a slice from a DataFrame.\n",
      "Try using .loc[row_indexer,col_indexer] = value instead\n",
      "\n",
      "See the caveats in the documentation: https://pandas.pydata.org/pandas-docs/stable/user_guide/indexing.html#returning-a-view-versus-a-copy\n",
      "  df['note_Spectateurs'] = pd.to_numeric(df['note_Spectateurs'].replace('--', pd.NA).str.replace(',', '.'), errors='coerce')\n"
     ]
    }
   ],
   "source": [
    "# Remplacer '--' par NaN et remplacer les virgules par des points dans les colonnes 'note_Presse' et 'note_Spectateurs'\n",
    "df['note_Presse'] = pd.to_numeric(df['note_Presse'].replace('--', pd.NA).str.replace(',', '.'), errors='coerce')\n",
    "df['note_Spectateurs'] = pd.to_numeric(df['note_Spectateurs'].replace('--', pd.NA).str.replace(',', '.'), errors='coerce')"
   ]
  },
  {
   "cell_type": "code",
   "execution_count": 11,
   "id": "0a3a18ad-38d6-45b5-98b4-b3d65e0e31e2",
   "metadata": {},
   "outputs": [],
   "source": [
    "df_sans_nan = df.dropna(subset=['note_Presse', 'note_Spectateurs']) #On vire les NaN pour computer la régression"
   ]
  },
  {
   "cell_type": "code",
   "execution_count": 22,
   "id": "93a05e30-499d-40cc-abb7-86f5f89fb3e1",
   "metadata": {},
   "outputs": [
    {
     "name": "stdout",
     "output_type": "stream",
     "text": [
      "                            OLS Regression Results                            \n",
      "==============================================================================\n",
      "Dep. Variable:       note_Spectateurs   R-squared:                       0.330\n",
      "Model:                            OLS   Adj. R-squared:                  0.330\n",
      "Method:                 Least Squares   F-statistic:                     4992.\n",
      "Date:                Fri, 08 Dec 2023   Prob (F-statistic):               0.00\n",
      "Time:                        10:22:47   Log-Likelihood:                -8477.7\n",
      "No. Observations:               10117   AIC:                         1.696e+04\n",
      "Df Residuals:                   10115   BIC:                         1.697e+04\n",
      "Df Model:                           1                                         \n",
      "Covariance Type:            nonrobust                                         \n",
      "==============================================================================\n",
      "                 coef    std err          t      P>|t|      [0.025      0.975]\n",
      "------------------------------------------------------------------------------\n",
      "const          1.2913      0.025     50.924      0.000       1.242       1.341\n",
      "x1             0.5478      0.008     70.657      0.000       0.533       0.563\n",
      "==============================================================================\n",
      "Omnibus:                       68.974   Durbin-Watson:                   1.992\n",
      "Prob(Omnibus):                  0.000   Jarque-Bera (JB):               68.133\n",
      "Skew:                          -0.185   Prob(JB):                     1.60e-15\n",
      "Kurtosis:                       2.841   Cond. No.                         16.2\n",
      "==============================================================================\n",
      "\n",
      "Notes:\n",
      "[1] Standard Errors assume that the covariance matrix of the errors is correctly specified.\n",
      "Mean Squared Error : 0.3304031982495861\n",
      "R-squared : 0.3044329850446933\n"
     ]
    },
    {
     "data": {
      "image/png": "[encoded data removed]",
      "text/plain": [
       "<Figure size 640x480 with 1 Axes>"
      ]
     },
     "metadata": {},
     "output_type": "display_data"
    }
   ],
   "source": [
    "# Sélectionner les colonnes de notes pour la régression linéaire\n",
    "X = df_sans_nan[['note_Presse']]\n",
    "y = df_sans_nan['note_Spectateurs']\n",
    "\n",
    "# Diviser les données en ensembles d'entraînement et de test (80% train, 20% test)\n",
    "X_train, X_test, y_train, y_test = train_test_split(X, y, test_size=0.2, random_state=42)\n",
    "\n",
    "# Imputer pour remplacer les NaN par la moyenne dans les données d'entraînement et de test\n",
    "imputer_X = SimpleImputer(strategy='mean')\n",
    "X_train_imputed = imputer_X.fit_transform(X_train)\n",
    "X_test_imputed = imputer_X.transform(X_test)\n",
    "\n",
    "# Ajouter une colonne de constantes à X_train_imputed\n",
    "X_train_imputed = sm.add_constant(X_train_imputed)\n",
    "\n",
    "# Créer un modèle de régression linéaire avec statsmodels\n",
    "model = sm.OLS(y_train, X_train_imputed).fit()\n",
    "\n",
    "# Afficher le résumé du modèle\n",
    "print(model.summary())\n",
    "\n",
    "# Effectuer des prédictions sur les données de test\n",
    "X_test_imputed = sm.add_constant(X_test_imputed)\n",
    "predictions = model.predict(X_test_imputed)\n",
    "\n",
    "# Évaluer la performance du modèle\n",
    "mse = mean_squared_error(y_test, predictions)\n",
    "r2 = r2_score(y_test, predictions)\n",
    "\n",
    "print(f'Mean Squared Error : {mse}')\n",
    "print(f'R-squared : {r2}')\n",
    "\n",
    "# Tracer la régression linéaire\n",
    "plt.scatter(X_test, y_test, color='black')  # Utilisez X_test plutôt que X_test_imputed\n",
    "plt.plot(X_test, predictions, color='blue', linewidth=3)\n",
    "plt.xlabel('Note Presse')\n",
    "plt.ylabel('Note Spectateurs')\n",
    "plt.title('Régression Linéaire : \\n Note moyenne des spectateurs en fonction de la note moyenne de la Presse')\n",
    "plt.show()"
   ]
  },
  {
   "cell_type": "markdown",
   "id": "52d6194e-810b-422b-8390-aad681a79af8",
   "metadata": {},
   "source": [
    "Si on controle par le fait d'avoir reçu une récompense (ce qui peut influencer et la presse et les spectateurs). "
   ]
  },
  {
   "cell_type": "code",
   "execution_count": 26,
   "id": "da20bdcf-3dfa-4c8d-a00e-d20b5f0d0921",
   "metadata": {},
   "outputs": [
    {
     "name": "stderr",
     "output_type": "stream",
     "text": [
      "/tmp/ipykernel_241/1650299093.py:1: SettingWithCopyWarning: \n",
      "A value is trying to be set on a copy of a slice from a DataFrame.\n",
      "Try using .loc[row_indexer,col_indexer] = value instead\n",
      "\n",
      "See the caveats in the documentation: https://pandas.pydata.org/pandas-docs/stable/user_guide/indexing.html#returning-a-view-versus-a-copy\n",
      "  df_sans_nan['Récompense'] = df_sans_nan['Récompense'].notna().astype(int) #Variable binaire pour a été récompensé\n"
     ]
    }
   ],
   "source": [
    "df_sans_nan['Récompense'] = df_sans_nan['Récompense'].notna().astype(int) #Variable binaire pour a été récompensé"
   ]
  },
  {
   "cell_type": "code",
   "execution_count": 28,
   "id": "51b39947-372d-44c3-a1ec-866ad9fff641",
   "metadata": {},
   "outputs": [
    {
     "data": {
      "text/plain": [
       "0        0\n",
       "1        0\n",
       "2        0\n",
       "3        0\n",
       "4        0\n",
       "        ..\n",
       "86540    0\n",
       "87509    0\n",
       "93873    0\n",
       "97227    0\n",
       "99532    0\n",
       "Name: Récompense, Length: 12647, dtype: int64"
      ]
     },
     "execution_count": 28,
     "metadata": {},
     "output_type": "execute_result"
    }
   ],
   "source": [
    "df_sans_nan['Récompense']"
   ]
  },
  {
   "cell_type": "code",
   "execution_count": 27,
   "id": "758c4231-1628-45f0-bd12-132f0e0b0b9b",
   "metadata": {},
   "outputs": [
    {
     "name": "stdout",
     "output_type": "stream",
     "text": [
      "                            OLS Regression Results                            \n",
      "==============================================================================\n",
      "Dep. Variable:       note_Spectateurs   R-squared:                       0.331\n",
      "Model:                            OLS   Adj. R-squared:                  0.330\n",
      "Method:                 Least Squares   F-statistic:                     2497.\n",
      "Date:                Fri, 08 Dec 2023   Prob (F-statistic):               0.00\n",
      "Time:                        10:29:18   Log-Likelihood:                -8476.8\n",
      "No. Observations:               10117   AIC:                         1.696e+04\n",
      "Df Residuals:                   10114   BIC:                         1.698e+04\n",
      "Df Model:                           2                                         \n",
      "Covariance Type:            nonrobust                                         \n",
      "==============================================================================\n",
      "                 coef    std err          t      P>|t|      [0.025      0.975]\n",
      "------------------------------------------------------------------------------\n",
      "const          1.2947      0.025     50.810      0.000       1.245       1.345\n",
      "x1             0.5477      0.008     70.646      0.000       0.533       0.563\n",
      "x2            -0.0213      0.016     -1.359      0.174      -0.052       0.009\n",
      "==============================================================================\n",
      "Omnibus:                       69.012   Durbin-Watson:                   1.992\n",
      "Prob(Omnibus):                  0.000   Jarque-Bera (JB):               68.193\n",
      "Skew:                          -0.185   Prob(JB):                     1.56e-15\n",
      "Kurtosis:                       2.842   Cond. No.                         16.4\n",
      "==============================================================================\n",
      "\n",
      "Notes:\n",
      "[1] Standard Errors assume that the covariance matrix of the errors is correctly specified.\n",
      "Mean Squared Error : 0.3303968780316657\n",
      "R-squared : 0.30444629040958093\n"
     ]
    },
    {
     "ename": "ValueError",
     "evalue": "x and y must be the same size",
     "output_type": "error",
     "traceback": [
      "\u001b[0;31m---------------------------------------------------------------------------\u001b[0m",
      "\u001b[0;31mValueError\u001b[0m                                Traceback (most recent call last)",
      "Cell \u001b[0;32mIn[27], line 34\u001b[0m\n\u001b[1;32m     31\u001b[0m \u001b[38;5;28mprint\u001b[39m(\u001b[38;5;124mf\u001b[39m\u001b[38;5;124m'\u001b[39m\u001b[38;5;124mR-squared : \u001b[39m\u001b[38;5;132;01m{\u001b[39;00mr2\u001b[38;5;132;01m}\u001b[39;00m\u001b[38;5;124m'\u001b[39m)\n\u001b[1;32m     33\u001b[0m \u001b[38;5;66;03m# Tracer la régression linéaire\u001b[39;00m\n\u001b[0;32m---> 34\u001b[0m \u001b[43mplt\u001b[49m\u001b[38;5;241;43m.\u001b[39;49m\u001b[43mscatter\u001b[49m\u001b[43m(\u001b[49m\u001b[43mX_test\u001b[49m\u001b[43m,\u001b[49m\u001b[43m \u001b[49m\u001b[43my_test\u001b[49m\u001b[43m,\u001b[49m\u001b[43m \u001b[49m\u001b[43mcolor\u001b[49m\u001b[38;5;241;43m=\u001b[39;49m\u001b[38;5;124;43m'\u001b[39;49m\u001b[38;5;124;43mblack\u001b[39;49m\u001b[38;5;124;43m'\u001b[39;49m\u001b[43m)\u001b[49m  \u001b[38;5;66;03m# Utilisez X_test plutôt que X_test_imputed\u001b[39;00m\n\u001b[1;32m     35\u001b[0m plt\u001b[38;5;241m.\u001b[39mplot(X_test, predictions, color\u001b[38;5;241m=\u001b[39m\u001b[38;5;124m'\u001b[39m\u001b[38;5;124mblue\u001b[39m\u001b[38;5;124m'\u001b[39m, linewidth\u001b[38;5;241m=\u001b[39m\u001b[38;5;241m3\u001b[39m)\n\u001b[1;32m     36\u001b[0m plt\u001b[38;5;241m.\u001b[39mxlabel(\u001b[38;5;124m'\u001b[39m\u001b[38;5;124mNote Presse\u001b[39m\u001b[38;5;124m'\u001b[39m)\n",
      "File \u001b[0;32m/opt/mamba/lib/python3.10/site-packages/matplotlib/pyplot.py:3684\u001b[0m, in \u001b[0;36mscatter\u001b[0;34m(x, y, s, c, marker, cmap, norm, vmin, vmax, alpha, linewidths, edgecolors, plotnonfinite, data, **kwargs)\u001b[0m\n\u001b[1;32m   3665\u001b[0m \u001b[38;5;129m@_copy_docstring_and_deprecators\u001b[39m(Axes\u001b[38;5;241m.\u001b[39mscatter)\n\u001b[1;32m   3666\u001b[0m \u001b[38;5;28;01mdef\u001b[39;00m \u001b[38;5;21mscatter\u001b[39m(\n\u001b[1;32m   3667\u001b[0m     x: \u001b[38;5;28mfloat\u001b[39m \u001b[38;5;241m|\u001b[39m ArrayLike,\n\u001b[0;32m   (...)\u001b[0m\n\u001b[1;32m   3682\u001b[0m     \u001b[38;5;241m*\u001b[39m\u001b[38;5;241m*\u001b[39mkwargs,\n\u001b[1;32m   3683\u001b[0m ) \u001b[38;5;241m-\u001b[39m\u001b[38;5;241m>\u001b[39m PathCollection:\n\u001b[0;32m-> 3684\u001b[0m     __ret \u001b[38;5;241m=\u001b[39m \u001b[43mgca\u001b[49m\u001b[43m(\u001b[49m\u001b[43m)\u001b[49m\u001b[38;5;241;43m.\u001b[39;49m\u001b[43mscatter\u001b[49m\u001b[43m(\u001b[49m\n\u001b[1;32m   3685\u001b[0m \u001b[43m        \u001b[49m\u001b[43mx\u001b[49m\u001b[43m,\u001b[49m\n\u001b[1;32m   3686\u001b[0m \u001b[43m        \u001b[49m\u001b[43my\u001b[49m\u001b[43m,\u001b[49m\n\u001b[1;32m   3687\u001b[0m \u001b[43m        \u001b[49m\u001b[43ms\u001b[49m\u001b[38;5;241;43m=\u001b[39;49m\u001b[43ms\u001b[49m\u001b[43m,\u001b[49m\n\u001b[1;32m   3688\u001b[0m \u001b[43m        \u001b[49m\u001b[43mc\u001b[49m\u001b[38;5;241;43m=\u001b[39;49m\u001b[43mc\u001b[49m\u001b[43m,\u001b[49m\n\u001b[1;32m   3689\u001b[0m \u001b[43m        \u001b[49m\u001b[43mmarker\u001b[49m\u001b[38;5;241;43m=\u001b[39;49m\u001b[43mmarker\u001b[49m\u001b[43m,\u001b[49m\n\u001b[1;32m   3690\u001b[0m \u001b[43m        \u001b[49m\u001b[43mcmap\u001b[49m\u001b[38;5;241;43m=\u001b[39;49m\u001b[43mcmap\u001b[49m\u001b[43m,\u001b[49m\n\u001b[1;32m   3691\u001b[0m \u001b[43m        \u001b[49m\u001b[43mnorm\u001b[49m\u001b[38;5;241;43m=\u001b[39;49m\u001b[43mnorm\u001b[49m\u001b[43m,\u001b[49m\n\u001b[1;32m   3692\u001b[0m \u001b[43m        \u001b[49m\u001b[43mvmin\u001b[49m\u001b[38;5;241;43m=\u001b[39;49m\u001b[43mvmin\u001b[49m\u001b[43m,\u001b[49m\n\u001b[1;32m   3693\u001b[0m \u001b[43m        \u001b[49m\u001b[43mvmax\u001b[49m\u001b[38;5;241;43m=\u001b[39;49m\u001b[43mvmax\u001b[49m\u001b[43m,\u001b[49m\n\u001b[1;32m   3694\u001b[0m \u001b[43m        \u001b[49m\u001b[43malpha\u001b[49m\u001b[38;5;241;43m=\u001b[39;49m\u001b[43malpha\u001b[49m\u001b[43m,\u001b[49m\n\u001b[1;32m   3695\u001b[0m \u001b[43m        \u001b[49m\u001b[43mlinewidths\u001b[49m\u001b[38;5;241;43m=\u001b[39;49m\u001b[43mlinewidths\u001b[49m\u001b[43m,\u001b[49m\n\u001b[1;32m   3696\u001b[0m \u001b[43m        \u001b[49m\u001b[43medgecolors\u001b[49m\u001b[38;5;241;43m=\u001b[39;49m\u001b[43medgecolors\u001b[49m\u001b[43m,\u001b[49m\n\u001b[1;32m   3697\u001b[0m \u001b[43m        \u001b[49m\u001b[43mplotnonfinite\u001b[49m\u001b[38;5;241;43m=\u001b[39;49m\u001b[43mplotnonfinite\u001b[49m\u001b[43m,\u001b[49m\n\u001b[1;32m   3698\u001b[0m \u001b[43m        \u001b[49m\u001b[38;5;241;43m*\u001b[39;49m\u001b[38;5;241;43m*\u001b[39;49m\u001b[43m(\u001b[49m\u001b[43m{\u001b[49m\u001b[38;5;124;43m\"\u001b[39;49m\u001b[38;5;124;43mdata\u001b[39;49m\u001b[38;5;124;43m\"\u001b[39;49m\u001b[43m:\u001b[49m\u001b[43m \u001b[49m\u001b[43mdata\u001b[49m\u001b[43m}\u001b[49m\u001b[43m \u001b[49m\u001b[38;5;28;43;01mif\u001b[39;49;00m\u001b[43m \u001b[49m\u001b[43mdata\u001b[49m\u001b[43m \u001b[49m\u001b[38;5;129;43;01mis\u001b[39;49;00m\u001b[43m \u001b[49m\u001b[38;5;129;43;01mnot\u001b[39;49;00m\u001b[43m \u001b[49m\u001b[38;5;28;43;01mNone\u001b[39;49;00m\u001b[43m \u001b[49m\u001b[38;5;28;43;01melse\u001b[39;49;00m\u001b[43m \u001b[49m\u001b[43m{\u001b[49m\u001b[43m}\u001b[49m\u001b[43m)\u001b[49m\u001b[43m,\u001b[49m\n\u001b[1;32m   3699\u001b[0m \u001b[43m        \u001b[49m\u001b[38;5;241;43m*\u001b[39;49m\u001b[38;5;241;43m*\u001b[39;49m\u001b[43mkwargs\u001b[49m\u001b[43m,\u001b[49m\n\u001b[1;32m   3700\u001b[0m \u001b[43m    \u001b[49m\u001b[43m)\u001b[49m\n\u001b[1;32m   3701\u001b[0m     sci(__ret)\n\u001b[1;32m   3702\u001b[0m     \u001b[38;5;28;01mreturn\u001b[39;00m __ret\n",
      "File \u001b[0;32m/opt/mamba/lib/python3.10/site-packages/matplotlib/__init__.py:1465\u001b[0m, in \u001b[0;36m_preprocess_data.<locals>.inner\u001b[0;34m(ax, data, *args, **kwargs)\u001b[0m\n\u001b[1;32m   1462\u001b[0m \u001b[38;5;129m@functools\u001b[39m\u001b[38;5;241m.\u001b[39mwraps(func)\n\u001b[1;32m   1463\u001b[0m \u001b[38;5;28;01mdef\u001b[39;00m \u001b[38;5;21minner\u001b[39m(ax, \u001b[38;5;241m*\u001b[39margs, data\u001b[38;5;241m=\u001b[39m\u001b[38;5;28;01mNone\u001b[39;00m, \u001b[38;5;241m*\u001b[39m\u001b[38;5;241m*\u001b[39mkwargs):\n\u001b[1;32m   1464\u001b[0m     \u001b[38;5;28;01mif\u001b[39;00m data \u001b[38;5;129;01mis\u001b[39;00m \u001b[38;5;28;01mNone\u001b[39;00m:\n\u001b[0;32m-> 1465\u001b[0m         \u001b[38;5;28;01mreturn\u001b[39;00m \u001b[43mfunc\u001b[49m\u001b[43m(\u001b[49m\u001b[43max\u001b[49m\u001b[43m,\u001b[49m\u001b[43m \u001b[49m\u001b[38;5;241;43m*\u001b[39;49m\u001b[38;5;28;43mmap\u001b[39;49m\u001b[43m(\u001b[49m\u001b[43msanitize_sequence\u001b[49m\u001b[43m,\u001b[49m\u001b[43m \u001b[49m\u001b[43margs\u001b[49m\u001b[43m)\u001b[49m\u001b[43m,\u001b[49m\u001b[43m \u001b[49m\u001b[38;5;241;43m*\u001b[39;49m\u001b[38;5;241;43m*\u001b[39;49m\u001b[43mkwargs\u001b[49m\u001b[43m)\u001b[49m\n\u001b[1;32m   1467\u001b[0m     bound \u001b[38;5;241m=\u001b[39m new_sig\u001b[38;5;241m.\u001b[39mbind(ax, \u001b[38;5;241m*\u001b[39margs, \u001b[38;5;241m*\u001b[39m\u001b[38;5;241m*\u001b[39mkwargs)\n\u001b[1;32m   1468\u001b[0m     auto_label \u001b[38;5;241m=\u001b[39m (bound\u001b[38;5;241m.\u001b[39marguments\u001b[38;5;241m.\u001b[39mget(label_namer)\n\u001b[1;32m   1469\u001b[0m                   \u001b[38;5;129;01mor\u001b[39;00m bound\u001b[38;5;241m.\u001b[39mkwargs\u001b[38;5;241m.\u001b[39mget(label_namer))\n",
      "File \u001b[0;32m/opt/mamba/lib/python3.10/site-packages/matplotlib/axes/_axes.py:4652\u001b[0m, in \u001b[0;36mAxes.scatter\u001b[0;34m(self, x, y, s, c, marker, cmap, norm, vmin, vmax, alpha, linewidths, edgecolors, plotnonfinite, **kwargs)\u001b[0m\n\u001b[1;32m   4650\u001b[0m y \u001b[38;5;241m=\u001b[39m np\u001b[38;5;241m.\u001b[39mma\u001b[38;5;241m.\u001b[39mravel(y)\n\u001b[1;32m   4651\u001b[0m \u001b[38;5;28;01mif\u001b[39;00m x\u001b[38;5;241m.\u001b[39msize \u001b[38;5;241m!=\u001b[39m y\u001b[38;5;241m.\u001b[39msize:\n\u001b[0;32m-> 4652\u001b[0m     \u001b[38;5;28;01mraise\u001b[39;00m \u001b[38;5;167;01mValueError\u001b[39;00m(\u001b[38;5;124m\"\u001b[39m\u001b[38;5;124mx and y must be the same size\u001b[39m\u001b[38;5;124m\"\u001b[39m)\n\u001b[1;32m   4654\u001b[0m \u001b[38;5;28;01mif\u001b[39;00m s \u001b[38;5;129;01mis\u001b[39;00m \u001b[38;5;28;01mNone\u001b[39;00m:\n\u001b[1;32m   4655\u001b[0m     s \u001b[38;5;241m=\u001b[39m (\u001b[38;5;241m20\u001b[39m \u001b[38;5;28;01mif\u001b[39;00m mpl\u001b[38;5;241m.\u001b[39mrcParams[\u001b[38;5;124m'\u001b[39m\u001b[38;5;124m_internal.classic_mode\u001b[39m\u001b[38;5;124m'\u001b[39m] \u001b[38;5;28;01melse\u001b[39;00m\n\u001b[1;32m   4656\u001b[0m          mpl\u001b[38;5;241m.\u001b[39mrcParams[\u001b[38;5;124m'\u001b[39m\u001b[38;5;124mlines.markersize\u001b[39m\u001b[38;5;124m'\u001b[39m] \u001b[38;5;241m*\u001b[39m\u001b[38;5;241m*\u001b[39m \u001b[38;5;241m2.0\u001b[39m)\n",
      "\u001b[0;31mValueError\u001b[0m: x and y must be the same size"
     ]
    },
    {
     "data": {
      "image/png": "[encoded data removed]",
      "text/plain": [
       "<Figure size 640x480 with 1 Axes>"
      ]
     },
     "metadata": {},
     "output_type": "display_data"
    }
   ],
   "source": [
    "# Sélectionner les colonnes de notes pour la régression linéaire\n",
    "X = df_sans_nan[['note_Presse', 'Récompense']]\n",
    "y = df_sans_nan['note_Spectateurs']\n",
    "\n",
    "# Diviser les données en ensembles d'entraînement et de test (80% train, 20% test)\n",
    "X_train, X_test, y_train, y_test = train_test_split(X, y, test_size=0.2, random_state=42)\n",
    "\n",
    "# Imputer pour remplacer les NaN par la moyenne dans les données d'entraînement et de test\n",
    "imputer_X = SimpleImputer(strategy='mean')\n",
    "X_train_imputed = imputer_X.fit_transform(X_train)\n",
    "X_test_imputed = imputer_X.transform(X_test)\n",
    "\n",
    "# Ajouter une colonne de constantes à X_train_imputed\n",
    "X_train_imputed = sm.add_constant(X_train_imputed)\n",
    "\n",
    "# Créer un modèle de régression linéaire avec statsmodels\n",
    "model = sm.OLS(y_train, X_train_imputed).fit()\n",
    "\n",
    "# Afficher le résumé du modèle\n",
    "print(model.summary())\n",
    "\n",
    "# Effectuer des prédictions sur les données de test\n",
    "X_test_imputed = sm.add_constant(X_test_imputed)\n",
    "predictions = model.predict(X_test_imputed)\n",
    "\n",
    "# Évaluer la performance du modèle\n",
    "mse = mean_squared_error(y_test, predictions)\n",
    "r2 = r2_score(y_test, predictions)\n",
    "\n",
    "print(f'Mean Squared Error : {mse}')\n",
    "print(f'R-squared : {r2}')\n",
    "\n",
    "\"\"\"# Tracer la régression linéaire\n",
    "plt.scatter(X_test, y_test, color='black')  # Utilisez X_test plutôt que X_test_imputed\n",
    "plt.plot(X_test, predictions, color='blue', linewidth=3)\n",
    "plt.xlabel('Note Presse')\n",
    "plt.ylabel('Note Spectateurs')\n",
    "plt.title('Régression Linéaire : \\n Note moyenne des spectateurs en fonction de la note moyenne de la Presse')\n",
    "plt.show()\"\"\""
   ]
  },
  {
   "cell_type": "code",
   "execution_count": 25,
   "id": "32c3412e-738b-4385-86e6-abc761e29184",
   "metadata": {},
   "outputs": [
    {
     "data": {
      "text/plain": [
       "14       1 nomination\n",
       "16       1 nomination\n",
       "17       1 nomination\n",
       "27       1 nomination\n",
       "35       1 nomination\n",
       "             ...     \n",
       "55391          # prix\n",
       "62226    1 nomination\n",
       "70800    1 nomination\n",
       "73365          # prix\n",
       "85123    1 nomination\n",
       "Name: Récompense, Length: 1880, dtype: object"
      ]
     },
     "execution_count": 25,
     "metadata": {},
     "output_type": "execute_result"
    }
   ],
   "source": [
    "df_full_sans_nan['Récompense']"
   ]
  },
  {
   "cell_type": "code",
   "execution_count": null,
   "id": "3f3f7cab-f89f-438e-b58a-c3f3d3251143",
   "metadata": {},
   "outputs": [],
   "source": []
  }
 ],
 "metadata": {
  "kernelspec": {
   "display_name": "Python 3 (ipykernel)",
   "language": "python",
   "name": "python3"
  },
  "language_info": {
   "codemirror_mode": {
    "name": "ipython",
    "version": 3
   },
   "file_extension": ".py",
   "mimetype": "text/x-python",
   "name": "python",
   "nbconvert_exporter": "python",
   "pygments_lexer": "ipython3",
   "version": "3.10.13"
  }
 },
 "nbformat": 4,
 "nbformat_minor": 5
}
